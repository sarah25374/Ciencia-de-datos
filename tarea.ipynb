{
  "nbformat": 4,
  "nbformat_minor": 0,
  "metadata": {
    "colab": {
      "provenance": [],
      "include_colab_link": true
    },
    "kernelspec": {
      "name": "python3",
      "display_name": "Python 3"
    },
    "language_info": {
      "name": "python"
    }
  },
  "cells": [
    {
      "cell_type": "markdown",
      "metadata": {
        "id": "view-in-github",
        "colab_type": "text"
      },
      "source": [
        "<a href=\"https://colab.research.google.com/github/sarah25374/Ciencia-de-datos/blob/main/tarea.ipynb\" target=\"_parent\"><img src=\"https://colab.research.google.com/assets/colab-badge.svg\" alt=\"Open In Colab\"/></a>"
      ]
    },
    {
      "cell_type": "code",
      "source": [
        "1##usuario ingrese 5 notas\n",
        "Nom=str(input(\"ingrese nombre de usuario\")) ##pide que ingrese el nombre de usuario\n",
        "print(\"Bienvenido\",Nom) ##le da bienvenida a usuario\n",
        "num1=float(input(\"ingrese la primer nota:\"))\n",
        "num2=float(input(\"ingrese la segunda nota:\"))\n",
        "num3=float(input(\"ingrese la tercer nota:\"))\n",
        "num4=float(input(\"ingrese la cuarta nota:\"))\n",
        "num5=float(input(\"ingrese la quinta nota:\"))\n",
        "notas=[num1,num2,num3,num4,num5] ##los num, los asigna a una lista de nombre \"notas\"\n",
        "prom=(num1+num2+num3+num4+num5)/5 ##realiza el promedio\n",
        "print(Nom,\" El promedio de las notas es:\",prom)##imprime usuario y da el prome"
      ],
      "metadata": {
        "id": "PyAvC0WGN2sV"
      },
      "execution_count": null,
      "outputs": []
    },
    {
      "cell_type": "code",
      "source": [],
      "metadata": {
        "id": "3GrzkkEUWhKU"
      },
      "execution_count": null,
      "outputs": []
    },
    {
      "cell_type": "code",
      "source": [],
      "metadata": {
        "id": "1F9NnM7zxGLm"
      },
      "execution_count": null,
      "outputs": []
    },
    {
      "cell_type": "code",
      "source": [
        "##ingrese los nombres de 5 productos y sus precios\n",
        "Nom=str(input(\"ingrese nombre de usuario\")) ##pide que ingrese el nombre de usuario\n",
        "print(\"Bienvenido\",Nom) ##le da bienvenida a usuario\n",
        "\n",
        "prod1=str(input(\"ingrese el nombre del primer producto:\"))\n",
        "pre1=float(input(\"ingrese el precio del primer producto:\"))\n",
        "prod2=str(input(\"ingrese el nombre del segundo producto:\"))\n",
        "pre2=float(input(\"ingrese el precio del segundo producto:\"))\n",
        "prod3=str(input(\"ingrese el nombre del tercer producto:\"))\n",
        "pre3=float(input(\"ingrese el precio del tercer producto:\"))\n",
        "prod4=str(input(\"ingrese el nombre del cuarto producto:\"))\n",
        "pre4=float(input(\"ingrese el precio del cuarto producto:\"))\n",
        "prod5=str(input(\"ingrese el nombre del quinto producto:\"))\n",
        "pre5=float(input(\"ingrese el precio del quinto producto:\"))\n",
        "inven_prod1= int(input(f\"ingrese el inventario del {prod1}\"))\n",
        "inven_prod2= int(input(f\"ingrese el inventario del {prod2}\"))\n",
        "inven_prod3= int(input(f\"ingrese el inventario del {prod3}\"))\n",
        "inven_prod4= int(input(f\"ingrese el inventario del {prod4}\"))\n",
        "inven_prod5=int(input(f\"ingrese el inventario del {prod5}\"))\n",
        "\n",
        "\n",
        "\n",
        "inventario={\n",
        "    \"nom_pro\":[prod1,prod2,prod3,prod4,prod5],\n",
        "    \"precio\":[pre1,pre2,pre3,pre4,pre5],\n",
        "    \"invent_prods\":[inven_prod1,inven_prod2,inven_prod3,inven_prod4,inven_prod5]\n",
        "\n",
        "}\n",
        "print (\"Ingrese el nombre del producto 1:\", prod1)\n",
        "print (\"Ingrece el precio del producto 1:\", f\"{pre1:.2f}\")\n",
        "print (f\"La cantidad del inventario para el producto {prod1} es:\", inven_prod1)\n",
        "print (\"Ingrese el nopmbre del producto 2:\", prod2)\n",
        "print (\"Ingrece el precio del producto 2:\", f\"{pre2:.2f}\")\n",
        "print (f\"La cantidad del inventario para el producto {prod2} es:\", inven_prod2)\n",
        "print (\"Ingrese el nombre del producto 3:\", prod3)\n",
        "print (\"Ingrece el precio del producto 3:\", f\"{pre3:.2f}\")\n",
        "print (f\"La cantidad del inventario para el producto {prod3} es:\", inven_prod3)\n",
        "print (\"Ingrese el nombre del producto 4:\", prod4)\n",
        "print (\"Ingrece el precio del producto 4:\", f\"{pre4:.2f}\")\n",
        "print (f\"La cantidad del inventario para el producto {prod4} es:\", inven_prod4)\n",
        "print (\"Ingrese el nombre del producto 5:\", prod5)\n",
        "print (\"Ingrece el precio del producto 5:\", f\"{pre5:.2f}\")\n",
        "print (f\"La cantidad del inventario para el producto {prod5} es:\", inven_prod5)\n",
        "\n"
      ],
      "metadata": {
        "id": "JB5-QNs8vmo5"
      },
      "execution_count": null,
      "outputs": []
    },
    {
      "cell_type": "code",
      "source": [
        "# Solicite al usuario que ingrese un numero entero positivo\n",
        "num= int(input(\"Ingrese un numero entero positivo: \"))\n",
        "\n",
        "# Funcion para imprimir todos los numeros pares desde 0 - num\n",
        "print(f\"Los numeros pares desde 0 hasta {num} son:\")\n",
        "for i in range(num + 1):\n",
        "    if i % 2 == 0:\n",
        "        print(i)\n",
        "\n",
        "# Funcion para imprimir todos los numeros impares desde 0 - num\n",
        "print(f\"Los numeros impares desde 0 hasta {num} son:\")\n",
        "for i in range(num + 1):\n",
        "    if i % 2 != 0:\n",
        "        print(i)\n",
        "\n",
        "\n",
        "\n",
        "# Use una tercera función para calcular y devolver la suma de todos los números impares por separado\n",
        "suma=0\n",
        "print(f\"La suma de los numeros pares desde 0 hasta {num} es:\")\n",
        "for i in range(num + 1):\n",
        "    if i % 2 == 0:\n",
        "        suma=suma+i\n",
        "        print(suma)\n",
        "\n",
        "# Use una tercera función para calcular y devolver la suma de todos los números impares por separado\n",
        "suma=0\n",
        "print(f\"La suma de los numeros impares desde 0 hasta {num} es:\")\n",
        "for i in range(num + 1):\n",
        "    if i % 2 != 0:\n",
        "        suma=suma+i\n",
        "        print(suma)\n"
      ],
      "metadata": {
        "id": "ydCRL1cQBj9V"
      },
      "execution_count": null,
      "outputs": []
    }
  ]
}